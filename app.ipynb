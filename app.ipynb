{
 "cells": [
  {
   "cell_type": "code",
   "execution_count": 12,
   "metadata": {},
   "outputs": [],
   "source": [
    "from langchain.chat_models import ChatOpenAI\n",
    "from langchain.tools import tool\n",
    "from langchain.prompts import ChatPromptTemplate\n",
    "from langchain.schema.agent import AgentFinish\n",
    "from langchain.tools.render import format_tool_to_openai_function\n",
    "from langchain.agents.output_parsers import OpenAIFunctionsAgentOutputParser\n",
    "from pydantic import BaseModel, Field\n",
    "from langchain.prompts import MessagesPlaceholder\n",
    "from typing import List, Optional\n",
    "import pandas as pd"
   ]
  },
  {
   "cell_type": "code",
   "execution_count": 14,
   "metadata": {},
   "outputs": [],
   "source": [
    "class movieDetails(BaseModel):\n",
    "    movie_genre :List[str] = Field(description=\"The genres of the movies/movie you like or you have watched before seperated by comma\")\n",
    "    movies_watched: Optional[List[str]] = Field(description=\"The names of the movies you have watched before or like, separated by comma\")\n"
   ]
  },
  {
   "cell_type": "code",
   "execution_count": null,
   "metadata": {},
   "outputs": [],
   "source": [
    "@tool(args_schema=movieDetails)\n",
    "def get_movies_you_might_love(movieDetails: movieDetails) -> dict:\n",
    "    \"\"\"Recommends movies based on genres or previously watched movies.\"\"\"\n",
    "\n",
    "    movie_df = pd.read_csv(\"./imdb_top_1000.csv\")\n",
    "\n",
    "    if movieDetails.movie_genre and len(movieDetails.movie_genre) > 0:\n",
    "        genres_you_like = [genre.strip().lower() for genre in movieDetails.movie_genre] \n",
    "        genre_filter = movie_df['Genre'].str.contains('|'.join(genres_you_like), case=False, na=False)\n",
    "        movies_with_same_genre = movie_df[genre_filter]\n",
    "        return {\"movies you might like\": list(movies_with_same_genre['Series_Title'])}\n",
    "    elif movieDetails.movies_watched and len(movieDetails.movies_watched) > 0:\n",
    "        movies_watched = [movie.strip().lower() for movie in movieDetails.movies_watched]  \n",
    "        movie_filter = movie_df['Series_Title'].str.contains('|'.join(movies_watched), case=False, na=False)\n",
    "        movies_watched_data = movie_df[movie_filter]\n",
    "       \n",
    "        genre_of_watched_movies = set(movies_watched_data['Genre'].str.split(',').explode().str.strip().unique())\n",
    "        genre_filter = movie_df['Genre'].str.contains('|'.join(genre_of_watched_movies), case=False, na=False)\n",
    "        movies_with_similar_genres = movie_df[genre_filter]\n",
    "        return {\"movies you might like\": list(movies_with_similar_genres['Series_Title'])}\n",
    "\n",
    "    else:\n",
    "        return {\"MovieError\": \"Please provide either a genre or a list of movies you've watched.\"}"
   ]
  },
  {
   "cell_type": "code",
   "execution_count": null,
   "metadata": {},
   "outputs": [],
   "source": []
  }
 ],
 "metadata": {
  "kernelspec": {
   "display_name": ".venv",
   "language": "python",
   "name": "python3"
  },
  "language_info": {
   "codemirror_mode": {
    "name": "ipython",
    "version": 3
   },
   "file_extension": ".py",
   "mimetype": "text/x-python",
   "name": "python",
   "nbconvert_exporter": "python",
   "pygments_lexer": "ipython3",
   "version": "3.11.0"
  }
 },
 "nbformat": 4,
 "nbformat_minor": 2
}
