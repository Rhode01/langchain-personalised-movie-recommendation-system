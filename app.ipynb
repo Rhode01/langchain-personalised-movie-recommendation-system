{
 "cells": [
  {
   "cell_type": "code",
   "execution_count": 20,
   "metadata": {},
   "outputs": [],
   "source": [
    "from langchain.chat_models import ChatOpenAI\n",
    "from langchain.tools import tool\n",
    "from langchain.prompts import ChatPromptTemplate\n",
    "from langchain.schema.agent import AgentFinish\n",
    "from langchain.tools.render import format_tool_to_openai_function\n",
    "from langchain.agents.output_parsers import OpenAIFunctionsAgentOutputParser\n",
    "from pydantic import BaseModel, Field\n",
    "from langchain.prompts import MessagesPlaceholder\n",
    "from typing import List, Optional\n",
    "import pandas as pd"
   ]
  },
  {
   "cell_type": "code",
   "execution_count": 21,
   "metadata": {},
   "outputs": [],
   "source": [
    "class movieDetails(BaseModel):\n",
    "    movie_genre :List[str] = Field(description=\"The genres of the movies/movie you like or you have watched before seperated by comma\")\n",
    "    movies_watched: Optional[List[str]] = Field(description=\"The names of the movies you have watched before or like, separated by comma\")\n",
    "\n",
    "class booksDetails(BaseModel):\n",
    "    books_genre :List[str] = Field(description=\"The genres of the Books/Book you like or you have read before seperated by comma\")\n",
    "    books_read: Optional[List[str]] = Field(description=\"The names of the Book/books you have read before or like, separated by comma\")\n"
   ]
  },
  {
   "cell_type": "code",
   "execution_count": 22,
   "metadata": {},
   "outputs": [],
   "source": [
    "@tool(args_schema=movieDetails)\n",
    "def get_movies_you_might_love(movieDetails: movieDetails) -> dict:\n",
    "    \"\"\"Recommends movies based on genres or previously watched movies.\"\"\"\n",
    "\n",
    "    movie_df = pd.read_csv(\"./imdb_top_1000.csv\")\n",
    "   \n",
    "    if movieDetails.movie_genre and len(movieDetails.movie_genre) > 0:\n",
    "        filtered_movies = filter_items_by_genre_or_title(\n",
    "            movie_df,\n",
    "            genre_column='Genre',\n",
    "            title_column='Series_Title',\n",
    "            genres=movieDetails.movie_genre,\n",
    "            titles=movieDetails.movies_watched\n",
    "        )\n",
    "        return {\"Movie you might like\": list(filtered_movies['Series_Title'])}\n",
    "    else:\n",
    "        return {\"MovieError\": \"Please provide either a genre or a list of movies you've watched.\"}"
   ]
  },
  {
   "cell_type": "code",
   "execution_count": 16,
   "metadata": {},
   "outputs": [],
   "source": [
    "@tool(args_schema=booksDetails)\n",
    "def get_books_you_might_love(booksDetails: booksDetails) -> dict:\n",
    "    \"\"\"Recommends books based on genres or previously read books.\"\"\"\n",
    "    \n",
    "    books_df = pd.read_csv(\"./BooksDatasetClean.csv\")\n",
    "\n",
    "    if booksDetails.books_genre or booksDetails.books_read:\n",
    "        filtered_books = filter_items_by_genre_or_title(\n",
    "            books_df,\n",
    "            genre_column='Category',\n",
    "            title_column='Title',\n",
    "            genres=booksDetails.books_genre,\n",
    "            titles=booksDetails.books_read\n",
    "        )\n",
    "        return {\"books you might like\": list(filtered_books['Title'])}\n",
    "    else:\n",
    "        return {\"BookError\": \"Please provide either a genre or a list of books you've read.\"}\n"
   ]
  },
  {
   "cell_type": "code",
   "execution_count": 23,
   "metadata": {},
   "outputs": [],
   "source": [
    "def filter_items_by_genre_or_title(df: pd.DataFrame, genre_column: str, title_column: str, genres: List[str] = None, titles: List[str] = None) -> pd.DataFrame:\n",
    "    \"\"\"Helper function to filter items by genre or title.\"\"\" \n",
    "    if genres and len(genres) > 0:\n",
    "        genres_you_like = [genre.strip().lower() for genre in genres]\n",
    "        genre_filter = df[genre_column].str.contains('|'.join(genres_you_like), case=False, na=False)\n",
    "        df = df[genre_filter]\n",
    "\n",
    "    if titles and len(titles) > 0:\n",
    "        titles = [title.strip().lower() for title in titles]\n",
    "        title_filter = df[title_column].str.contains('|'.join(titles), case=False, na=False)\n",
    "        df = df[title_filter]\n",
    "\n",
    "    return df"
   ]
  },
  {
   "cell_type": "code",
   "execution_count": 19,
   "metadata": {},
   "outputs": [
    {
     "name": "stderr",
     "output_type": "stream",
     "text": [
      "C:\\Users\\Design Dep\\AppData\\Local\\Temp\\ipykernel_17392\\2668362382.py:4: LangChainDeprecationWarning: The function `format_tool_to_openai_function` was deprecated in LangChain 0.1.16 and will be removed in 1.0. Use :meth:`~langchain_core.utils.function_calling.convert_to_openai_function()` instead.\n",
      "  func_tools = [format_tool_to_openai_function(i) for i in tools]\n"
     ]
    }
   ],
   "source": [
    "tools = [\n",
    "     get_movies_you_might_love, get_books_you_might_love\n",
    "]\n",
    "func_tools = [format_tool_to_openai_function(i) for i in tools]"
   ]
  },
  {
   "cell_type": "code",
   "execution_count": 24,
   "metadata": {},
   "outputs": [
    {
     "name": "stderr",
     "output_type": "stream",
     "text": [
      "C:\\Users\\Design Dep\\AppData\\Local\\Temp\\ipykernel_17392\\1092935690.py:1: LangChainDeprecationWarning: The class `ChatOpenAI` was deprecated in LangChain 0.0.10 and will be removed in 1.0. An updated version of the class exists in the :class:`~langchain-openai package and should be used instead. To use it run `pip install -U :class:`~langchain-openai` and import as `from :class:`~langchain_openai import ChatOpenAI``.\n",
      "  model = ChatOpenAI(temperature=0, model=\"chat-gpt-4.0\").bind(functions=func_tools)\n"
     ]
    }
   ],
   "source": [
    "model = ChatOpenAI(temperature=0, model=\"chat-gpt-4.0\").bind(functions=func_tools)"
   ]
  },
  {
   "cell_type": "code",
   "execution_count": null,
   "metadata": {},
   "outputs": [],
   "source": [
    "prompt = ChatPromptTemplate.from_messages([\n",
    "        (\"\")\n",
    "    ])"
   ]
  }
 ],
 "metadata": {
  "kernelspec": {
   "display_name": ".venv",
   "language": "python",
   "name": "python3"
  },
  "language_info": {
   "codemirror_mode": {
    "name": "ipython",
    "version": 3
   },
   "file_extension": ".py",
   "mimetype": "text/x-python",
   "name": "python",
   "nbconvert_exporter": "python",
   "pygments_lexer": "ipython3",
   "version": "3.11.0"
  }
 },
 "nbformat": 4,
 "nbformat_minor": 2
}
